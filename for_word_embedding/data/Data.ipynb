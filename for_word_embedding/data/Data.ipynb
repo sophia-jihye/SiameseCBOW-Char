{
 "cells": [
  {
   "cell_type": "code",
   "execution_count": 3,
   "metadata": {
    "collapsed": false
   },
   "outputs": [
    {
     "data": {
      "text/html": [
       "<div>\n",
       "<style scoped>\n",
       "    .dataframe tbody tr th:only-of-type {\n",
       "        vertical-align: middle;\n",
       "    }\n",
       "\n",
       "    .dataframe tbody tr th {\n",
       "        vertical-align: top;\n",
       "    }\n",
       "\n",
       "    .dataframe thead th {\n",
       "        text-align: right;\n",
       "    }\n",
       "</style>\n",
       "<table border=\"1\" class=\"dataframe\">\n",
       "  <thead>\n",
       "    <tr style=\"text-align: right;\">\n",
       "      <th></th>\n",
       "      <th>document_id</th>\n",
       "      <th>sentence_id</th>\n",
       "      <th>sentence</th>\n",
       "    </tr>\n",
       "  </thead>\n",
       "  <tbody>\n",
       "    <tr>\n",
       "      <th>0</th>\n",
       "      <td>0</td>\n",
       "      <td>0</td>\n",
       "      <td>분할 가중치 테이블 역전파 신경망을 이용한 구구단 학습 기능성 게임 제작에 관한 연...</td>\n",
       "    </tr>\n",
       "    <tr>\n",
       "      <th>1</th>\n",
       "      <td>0</td>\n",
       "      <td>1</td>\n",
       "      <td>이 기능성 게임은 사용자인 구구단을 배우는 학습자가 교사적 위치에서 아바타를 학습시...</td>\n",
       "    </tr>\n",
       "    <tr>\n",
       "      <th>2</th>\n",
       "      <td>0</td>\n",
       "      <td>2</td>\n",
       "      <td>학습 진화 기술은 역전파 인공신경망을 이용하여 구성하였으나 인공신경망의 학습 속도 ...</td>\n",
       "    </tr>\n",
       "    <tr>\n",
       "      <th>3</th>\n",
       "      <td>0</td>\n",
       "      <td>3</td>\n",
       "      <td>이렇게 구성된 엔진으로 학습 횟 수 번 정도에서 학습률을 얻을 수 있었고 또한 학습...</td>\n",
       "    </tr>\n",
       "    <tr>\n",
       "      <th>4</th>\n",
       "      <td>0</td>\n",
       "      <td>4</td>\n",
       "      <td>abstract in this paper we made the serious gam...</td>\n",
       "    </tr>\n",
       "  </tbody>\n",
       "</table>\n",
       "</div>"
      ],
      "text/plain": [
       "   document_id  sentence_id                                           sentence\n",
       "0            0            0  분할 가중치 테이블 역전파 신경망을 이용한 구구단 학습 기능성 게임 제작에 관한 연...\n",
       "1            0            1  이 기능성 게임은 사용자인 구구단을 배우는 학습자가 교사적 위치에서 아바타를 학습시...\n",
       "2            0            2  학습 진화 기술은 역전파 인공신경망을 이용하여 구성하였으나 인공신경망의 학습 속도 ...\n",
       "3            0            3  이렇게 구성된 엔진으로 학습 횟 수 번 정도에서 학습률을 얻을 수 있었고 또한 학습...\n",
       "4            0            4  abstract in this paper we made the serious gam..."
      ]
     },
     "execution_count": 3,
     "metadata": {},
     "output_type": "execute_result"
    }
   ],
   "source": [
    "import pandas as pd\n",
    "\n",
    "df = pd.read_csv('kci_sentences_72832.csv')\n",
    "df.head()"
   ]
  },
  {
   "cell_type": "code",
   "execution_count": 5,
   "metadata": {
    "collapsed": false
   },
   "outputs": [
    {
     "data": {
      "text/plain": [
       "array([[0, 0,\n",
       "        '분할 가중치 테이블 역전파 신경망을 이용한 구구단 학습 기능성 게임 제작에 관한 연구 이 경 호 a study on the implementation of serious game learning multiplication table using back propagation neural network on divided interconnection weights table kyong ho lee 요 약 본 논문에서는 학습자의 흥미를 유도하기 위해 인간의 학습 과정과 유사하게 학습 진화되는 구구단 학습 기능성 게임을 제작하였다'],\n",
       "       [0, 1,\n",
       "        '이 기능성 게임은 사용자인 구구단을 배우는 학습자가 교사적 위치에서 아바타를 학습시키는 은유를 이용하여 사용자가 학습되도록 구성하였다'],\n",
       "       [0, 2,\n",
       "        '학습 진화 기술은 역전파 인공신경망을 이용하여 구성하였으나 인공신경망의 학습 속도 문제를 분할 가중치 테이블 구조를 개발하여 개선하였다'],\n",
       "       [0, 3,\n",
       "        '이렇게 구성된 엔진으로 학습 횟 수 번 정도에서 학습률을 얻을 수 있었고 또한 학습의 횟수에 따른 학습률이 기계적 상승을 하지 않 고 학습시마다 다양한 비단조 형태로 증가하여 다양한 인간의 학습률과 유사하게 작동할 수 있었다'],\n",
       "       [0, 4,\n",
       "        'abstract in this paper we made the serious game learning multiplication table to be evolved']],\n",
       "      dtype=object)"
      ]
     },
     "execution_count": 5,
     "metadata": {},
     "output_type": "execute_result"
    }
   ],
   "source": [
    "df.head().values"
   ]
  }
 ],
 "metadata": {
  "kernelspec": {
   "display_name": "Python 3",
   "language": "python",
   "name": "python3"
  },
  "language_info": {
   "codemirror_mode": {
    "name": "ipython",
    "version": 3
   },
   "file_extension": ".py",
   "mimetype": "text/x-python",
   "name": "python",
   "nbconvert_exporter": "python",
   "pygments_lexer": "ipython3",
   "version": "3.6.9"
  }
 },
 "nbformat": 4,
 "nbformat_minor": 2
}
