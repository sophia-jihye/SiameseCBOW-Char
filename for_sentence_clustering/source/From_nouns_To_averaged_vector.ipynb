{
 "cells": [
  {
   "cell_type": "code",
   "execution_count": 2,
   "metadata": {
    "collapsed": false
   },
   "outputs": [],
   "source": [
    "import pandas as pd\n",
    "import os \n",
    "import numpy as np\n",
    "import pickle\n",
    "from utils import *\n",
    "\n",
    "import sys\n",
    "sys.path.append(os.path.join(os.path.dirname(os.getcwd()), 'source'))"
   ]
  },
  {
   "cell_type": "markdown",
   "metadata": {},
   "source": [
    "# Load data"
   ]
  },
  {
   "cell_type": "code",
   "execution_count": 3,
   "metadata": {
    "collapsed": false
   },
   "outputs": [
    {
     "data": {
      "text/html": [
       "<div>\n",
       "<style scoped>\n",
       "    .dataframe tbody tr th:only-of-type {\n",
       "        vertical-align: middle;\n",
       "    }\n",
       "\n",
       "    .dataframe tbody tr th {\n",
       "        vertical-align: top;\n",
       "    }\n",
       "\n",
       "    .dataframe thead th {\n",
       "        text-align: right;\n",
       "    }\n",
       "</style>\n",
       "<table border=\"1\" class=\"dataframe\">\n",
       "  <thead>\n",
       "    <tr style=\"text-align: right;\">\n",
       "      <th></th>\n",
       "      <th>document_id</th>\n",
       "      <th>sentence_id</th>\n",
       "      <th>sentence</th>\n",
       "      <th>nouns</th>\n",
       "    </tr>\n",
       "  </thead>\n",
       "  <tbody>\n",
       "    <tr>\n",
       "      <th>0</th>\n",
       "      <td>0</td>\n",
       "      <td>0</td>\n",
       "      <td>분할 가중치 테이블 역전파 신경망을 이용한 구구단 학습 기능성 게임 제작에 관한 연...</td>\n",
       "      <td>분할 가중 치 테이블 역전 파 신경망 이용 구구단 학습 기능 게임 제작 관 경 호 ...</td>\n",
       "    </tr>\n",
       "    <tr>\n",
       "      <th>1</th>\n",
       "      <td>0</td>\n",
       "      <td>1</td>\n",
       "      <td>이 기능성 게임은 사용자인 구구단을 배우는 학습자가 교사적 위치에서 아바타를 학습시...</td>\n",
       "      <td>기능 게임 사용자 구구단 학습자 교사 위치 아바타 학습 은유 이용 사용자 학습 구성</td>\n",
       "    </tr>\n",
       "    <tr>\n",
       "      <th>2</th>\n",
       "      <td>0</td>\n",
       "      <td>2</td>\n",
       "      <td>학습 진화 기술은 역전파 인공신경망을 이용하여 구성하였으나 인공신경망의 학습 속도 ...</td>\n",
       "      <td>학습 진화 기술 역전 파 인공 신경망 이용 구성 인공 신경망 학습 속도 문제 분할 ...</td>\n",
       "    </tr>\n",
       "    <tr>\n",
       "      <th>3</th>\n",
       "      <td>0</td>\n",
       "      <td>3</td>\n",
       "      <td>이렇게 구성된 엔진으로 학습 횟 수 번 정도에서 학습률을 얻을 수 있었고 또한 학습...</td>\n",
       "      <td>구성 엔진 학습 횟 번 정도 학습 률 또한 학습 횟수 학습 률 기계 상승 고 학습 ...</td>\n",
       "    </tr>\n",
       "    <tr>\n",
       "      <th>4</th>\n",
       "      <td>0</td>\n",
       "      <td>4</td>\n",
       "      <td>abstract in this paper we made the serious gam...</td>\n",
       "      <td>abstract this paper we made serious game learn...</td>\n",
       "    </tr>\n",
       "  </tbody>\n",
       "</table>\n",
       "</div>"
      ],
      "text/plain": [
       "   document_id  sentence_id  \\\n",
       "0            0            0   \n",
       "1            0            1   \n",
       "2            0            2   \n",
       "3            0            3   \n",
       "4            0            4   \n",
       "\n",
       "                                            sentence  \\\n",
       "0  분할 가중치 테이블 역전파 신경망을 이용한 구구단 학습 기능성 게임 제작에 관한 연...   \n",
       "1  이 기능성 게임은 사용자인 구구단을 배우는 학습자가 교사적 위치에서 아바타를 학습시...   \n",
       "2  학습 진화 기술은 역전파 인공신경망을 이용하여 구성하였으나 인공신경망의 학습 속도 ...   \n",
       "3  이렇게 구성된 엔진으로 학습 횟 수 번 정도에서 학습률을 얻을 수 있었고 또한 학습...   \n",
       "4  abstract in this paper we made the serious gam...   \n",
       "\n",
       "                                               nouns  \n",
       "0  분할 가중 치 테이블 역전 파 신경망 이용 구구단 학습 기능 게임 제작 관 경 호 ...  \n",
       "1     기능 게임 사용자 구구단 학습자 교사 위치 아바타 학습 은유 이용 사용자 학습 구성  \n",
       "2  학습 진화 기술 역전 파 인공 신경망 이용 구성 인공 신경망 학습 속도 문제 분할 ...  \n",
       "3  구성 엔진 학습 횟 번 정도 학습 률 또한 학습 횟수 학습 률 기계 상승 고 학습 ...  \n",
       "4  abstract this paper we made serious game learn...  "
      ]
     },
     "execution_count": 3,
     "metadata": {},
     "output_type": "execute_result"
    }
   ],
   "source": [
    "filepath = os.path.join(os.path.dirname(os.getcwd()), 'output', '20200119-12-57-30', 'sentences_of_nouns_72832.csv')\n",
    "df = pd.read_csv(filepath)\n",
    "df.head()"
   ]
  },
  {
   "cell_type": "markdown",
   "metadata": {},
   "source": [
    "# Load word2idx"
   ]
  },
  {
   "cell_type": "code",
   "execution_count": 4,
   "metadata": {
    "collapsed": false
   },
   "outputs": [
    {
     "data": {
      "text/plain": [
       "47925"
      ]
     },
     "execution_count": 4,
     "metadata": {},
     "output_type": "execute_result"
    }
   ],
   "source": [
    "vocab_filepath = os.path.join(os.path.dirname(os.getcwd()), 'output', 'vocab.npz')\n",
    "vocab = np.load(vocab_filepath)\n",
    "word2idx = vocab['word2idx'].item()\n",
    "len(word2idx)"
   ]
  },
  {
   "cell_type": "markdown",
   "metadata": {},
   "source": [
    "# Load word2idx, word_embedding_weights"
   ]
  },
  {
   "cell_type": "code",
   "execution_count": 5,
   "metadata": {
    "collapsed": false
   },
   "outputs": [
    {
     "data": {
      "text/plain": [
       "(47925, 512)"
      ]
     },
     "execution_count": 5,
     "metadata": {},
     "output_type": "execute_result"
    }
   ],
   "source": [
    "filepath = os.path.join(os.path.dirname(os.getcwd()), 'output', '20200119-12-57-30/model_embedding_vectors.pkl')\n",
    "with open(filepath, 'rb') as f:\n",
    "    embedding = pickle.load(f)\n",
    "\n",
    "embedding.shape"
   ]
  },
  {
   "cell_type": "code",
   "execution_count": 6,
   "metadata": {
    "collapsed": true
   },
   "outputs": [],
   "source": [
    "def word_vector(embedding, word2idx, word_str):\n",
    "    word_idx = word2idx[word_str]\n",
    "    return embedding[word_idx, :]"
   ]
  },
  {
   "cell_type": "markdown",
   "metadata": {},
   "source": [
    "# Calculate averaged vector for a sentence"
   ]
  },
  {
   "cell_type": "code",
   "execution_count": 18,
   "metadata": {
    "collapsed": false
   },
   "outputs": [],
   "source": [
    "def words2averaged_vector(words):\n",
    "    vectors = []\n",
    "    for word in words:\n",
    "        vectors.append(word_vector(embedding, word2idx, word))\n",
    "    return np.mean(vectors, axis=0)"
   ]
  },
  {
   "cell_type": "code",
   "execution_count": 19,
   "metadata": {
    "collapsed": false
   },
   "outputs": [
    {
     "data": {
      "text/html": [
       "<div>\n",
       "<style scoped>\n",
       "    .dataframe tbody tr th:only-of-type {\n",
       "        vertical-align: middle;\n",
       "    }\n",
       "\n",
       "    .dataframe tbody tr th {\n",
       "        vertical-align: top;\n",
       "    }\n",
       "\n",
       "    .dataframe thead th {\n",
       "        text-align: right;\n",
       "    }\n",
       "</style>\n",
       "<table border=\"1\" class=\"dataframe\">\n",
       "  <thead>\n",
       "    <tr style=\"text-align: right;\">\n",
       "      <th></th>\n",
       "      <th>document_id</th>\n",
       "      <th>sentence_id</th>\n",
       "      <th>sentence</th>\n",
       "      <th>nouns</th>\n",
       "      <th>averaged_vector</th>\n",
       "    </tr>\n",
       "  </thead>\n",
       "  <tbody>\n",
       "    <tr>\n",
       "      <th>0</th>\n",
       "      <td>0</td>\n",
       "      <td>0</td>\n",
       "      <td>분할 가중치 테이블 역전파 신경망을 이용한 구구단 학습 기능성 게임 제작에 관한 연...</td>\n",
       "      <td>분할 가중 치 테이블 역전 파 신경망 이용 구구단 학습 기능 게임 제작 관 경 호 ...</td>\n",
       "      <td>[-0.02836345, -0.027260834, -0.003032149, -0.0...</td>\n",
       "    </tr>\n",
       "    <tr>\n",
       "      <th>1</th>\n",
       "      <td>0</td>\n",
       "      <td>1</td>\n",
       "      <td>이 기능성 게임은 사용자인 구구단을 배우는 학습자가 교사적 위치에서 아바타를 학습시...</td>\n",
       "      <td>기능 게임 사용자 구구단 학습자 교사 위치 아바타 학습 은유 이용 사용자 학습 구성</td>\n",
       "      <td>[-0.023687446, -0.021546273, -0.0834047, -0.00...</td>\n",
       "    </tr>\n",
       "    <tr>\n",
       "      <th>2</th>\n",
       "      <td>0</td>\n",
       "      <td>2</td>\n",
       "      <td>학습 진화 기술은 역전파 인공신경망을 이용하여 구성하였으나 인공신경망의 학습 속도 ...</td>\n",
       "      <td>학습 진화 기술 역전 파 인공 신경망 이용 구성 인공 신경망 학습 속도 문제 분할 ...</td>\n",
       "      <td>[-0.056174148, -0.027719049, -0.06660577, -0.0...</td>\n",
       "    </tr>\n",
       "    <tr>\n",
       "      <th>3</th>\n",
       "      <td>0</td>\n",
       "      <td>3</td>\n",
       "      <td>이렇게 구성된 엔진으로 학습 횟 수 번 정도에서 학습률을 얻을 수 있었고 또한 학습...</td>\n",
       "      <td>구성 엔진 학습 횟 번 정도 학습 률 또한 학습 횟수 학습 률 기계 상승 고 학습 ...</td>\n",
       "      <td>[-0.10014565, -0.07379058, -0.0932726, -0.0036...</td>\n",
       "    </tr>\n",
       "    <tr>\n",
       "      <th>4</th>\n",
       "      <td>0</td>\n",
       "      <td>4</td>\n",
       "      <td>abstract in this paper we made the serious gam...</td>\n",
       "      <td>abstract this paper we made serious game learn...</td>\n",
       "      <td>[-0.13867316, 0.112787694, 0.14238156, -0.1387...</td>\n",
       "    </tr>\n",
       "  </tbody>\n",
       "</table>\n",
       "</div>"
      ],
      "text/plain": [
       "   document_id  sentence_id  \\\n",
       "0            0            0   \n",
       "1            0            1   \n",
       "2            0            2   \n",
       "3            0            3   \n",
       "4            0            4   \n",
       "\n",
       "                                            sentence  \\\n",
       "0  분할 가중치 테이블 역전파 신경망을 이용한 구구단 학습 기능성 게임 제작에 관한 연...   \n",
       "1  이 기능성 게임은 사용자인 구구단을 배우는 학습자가 교사적 위치에서 아바타를 학습시...   \n",
       "2  학습 진화 기술은 역전파 인공신경망을 이용하여 구성하였으나 인공신경망의 학습 속도 ...   \n",
       "3  이렇게 구성된 엔진으로 학습 횟 수 번 정도에서 학습률을 얻을 수 있었고 또한 학습...   \n",
       "4  abstract in this paper we made the serious gam...   \n",
       "\n",
       "                                               nouns  \\\n",
       "0  분할 가중 치 테이블 역전 파 신경망 이용 구구단 학습 기능 게임 제작 관 경 호 ...   \n",
       "1     기능 게임 사용자 구구단 학습자 교사 위치 아바타 학습 은유 이용 사용자 학습 구성   \n",
       "2  학습 진화 기술 역전 파 인공 신경망 이용 구성 인공 신경망 학습 속도 문제 분할 ...   \n",
       "3  구성 엔진 학습 횟 번 정도 학습 률 또한 학습 횟수 학습 률 기계 상승 고 학습 ...   \n",
       "4  abstract this paper we made serious game learn...   \n",
       "\n",
       "                                     averaged_vector  \n",
       "0  [-0.02836345, -0.027260834, -0.003032149, -0.0...  \n",
       "1  [-0.023687446, -0.021546273, -0.0834047, -0.00...  \n",
       "2  [-0.056174148, -0.027719049, -0.06660577, -0.0...  \n",
       "3  [-0.10014565, -0.07379058, -0.0932726, -0.0036...  \n",
       "4  [-0.13867316, 0.112787694, 0.14238156, -0.1387...  "
      ]
     },
     "execution_count": 19,
     "metadata": {},
     "output_type": "execute_result"
    }
   ],
   "source": [
    "df['averaged_vector'] = df.apply(lambda x: words2averaged_vector(line2words_blank(x['nouns'])), axis=1)\n",
    "df.head()"
   ]
  },
  {
   "cell_type": "code",
   "execution_count": null,
   "metadata": {
    "collapsed": true
   },
   "outputs": [],
   "source": []
  }
 ],
 "metadata": {
  "kernelspec": {
   "display_name": "keras",
   "language": "python",
   "name": "keras"
  },
  "language_info": {
   "codemirror_mode": {
    "name": "ipython",
    "version": 3
   },
   "file_extension": ".py",
   "mimetype": "text/x-python",
   "name": "python",
   "nbconvert_exporter": "python",
   "pygments_lexer": "ipython3",
   "version": "3.7.5"
  }
 },
 "nbformat": 4,
 "nbformat_minor": 2
}
